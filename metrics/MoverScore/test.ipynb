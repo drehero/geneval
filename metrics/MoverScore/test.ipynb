{
 "cells": [
  {
   "cell_type": "code",
   "execution_count": 1,
   "id": "d23fc946",
   "metadata": {},
   "outputs": [
    {
     "name": "stderr",
     "output_type": "stream",
     "text": [
      "Some weights of the model checkpoint at distilbert-base-uncased were not used when initializing DistilBertModel: ['vocab_layer_norm.weight', 'vocab_transform.weight', 'vocab_layer_norm.bias', 'vocab_projector.weight', 'vocab_projector.bias', 'vocab_transform.bias']\n",
      "- This IS expected if you are initializing DistilBertModel from the checkpoint of a model trained on another task or with another architecture (e.g. initializing a BertForSequenceClassification model from a BertForPreTraining model).\n",
      "- This IS NOT expected if you are initializing DistilBertModel from the checkpoint of a model that you expect to be exactly identical (initializing a BertForSequenceClassification model from a BertForSequenceClassification model).\n"
     ]
    }
   ],
   "source": [
    "import HF_MoverScore as ms"
   ]
  },
  {
   "cell_type": "code",
   "execution_count": 2,
   "id": "5fc5e58f",
   "metadata": {},
   "outputs": [],
   "source": [
    "refs = [['The dog bit the man.', 'It was not unexpected.', 'The man bit him first.'],\n",
    "        ['The dog had bit the man.', 'No one was surprised.', 'The man had bitten the dog.']]\n",
    "sys = ['The dog bit the man.', \"It wasn't surprising.\", 'The man had just bitten him.']"
   ]
  },
  {
   "cell_type": "code",
   "execution_count": 3,
   "id": "c57b049f",
   "metadata": {},
   "outputs": [
    {
     "data": {
      "text/plain": [
       "0.7390671673481917"
      ]
     },
     "execution_count": 3,
     "metadata": {},
     "output_type": "execute_result"
    }
   ],
   "source": [
    "ms.MoverScore._compute(sys,refs)"
   ]
  },
  {
   "cell_type": "markdown",
   "id": "ed1017ad",
   "metadata": {},
   "source": [
    "Der Import via Huggingfaces ist aber nict erfolgreich :/"
   ]
  },
  {
   "cell_type": "code",
   "execution_count": 4,
   "id": "29d24a81",
   "metadata": {},
   "outputs": [],
   "source": [
    "from datasets import load_metric\n",
    "MoverScore = load_metric('HF_MoverScore.py')"
   ]
  },
  {
   "cell_type": "code",
   "execution_count": 5,
   "id": "49be5fa3",
   "metadata": {},
   "outputs": [
    {
     "data": {
      "text/plain": [
       "Metric(name: \"mover_score\", features: {'predictions': Value(dtype='string', id=None), 'references': Value(dtype='string', id=None)}, usage: \"\"\"\n",
       "Calculates how good are predictions given some references, using certain scores\n",
       "Args:\n",
       "    predictions: list of predictions to score. Each predictions\n",
       "        should be a string with tokens separated by spaces.\n",
       "    references: list of reference for each prediction. Each\n",
       "        reference should be a string with tokens separated by spaces.\n",
       "Returns:\n",
       "    Moverscore: Value in the interval [0,1]\n",
       "Examples:\n",
       "    refs = [['The dog bit the man.', 'It was not unexpected.', 'The man bit him first.'],\n",
       "            ['The dog had bit the man.', 'No one was surprised.', 'The man had bitten the dog.']]\n",
       "        \n",
       "    sys = ['The dog bit the man.', \"It wasn't surprising.\", 'The man had just bitten him.']\n",
       "    \n",
       "    >>> MoverScore = datasets.load_metric(\"HF_MoverScore.py\")\n",
       "    >>> results = MoverScore._compute(sys,refs)\n",
       "    >>> print(results)\n",
       "    0.7390671673481917\n",
       "\"\"\", stored examples: 0)"
      ]
     },
     "execution_count": 5,
     "metadata": {},
     "output_type": "execute_result"
    }
   ],
   "source": [
    "MoverScore"
   ]
  },
  {
   "cell_type": "code",
   "execution_count": 6,
   "id": "66646e2c",
   "metadata": {},
   "outputs": [
    {
     "ename": "TypeError",
     "evalue": "'MoverScore' object is not iterable",
     "output_type": "error",
     "traceback": [
      "\u001b[1;31m---------------------------------------------------------------------------\u001b[0m",
      "\u001b[1;31mTypeError\u001b[0m                                 Traceback (most recent call last)",
      "\u001b[1;32m~\\AppData\\Local\\Temp/ipykernel_20436/310708370.py\u001b[0m in \u001b[0;36m<module>\u001b[1;34m\u001b[0m\n\u001b[1;32m----> 1\u001b[1;33m \u001b[0mMoverScore\u001b[0m\u001b[1;33m.\u001b[0m\u001b[0m_compute\u001b[0m\u001b[1;33m(\u001b[0m\u001b[0msys\u001b[0m\u001b[1;33m,\u001b[0m\u001b[0mrefs\u001b[0m\u001b[1;33m)\u001b[0m\u001b[1;33m\u001b[0m\u001b[1;33m\u001b[0m\u001b[0m\n\u001b[0m",
      "\u001b[1;32m~\\.cache\\huggingface\\modules\\datasets_modules\\metrics\\HF_MoverScore\\6a27b7d154d45533672e9242f6d8bef7d0557f1c682c2fa7d76934a36ff38909\\HF_MoverScore.py\u001b[0m in \u001b[0;36m_compute\u001b[1;34m(sys_stream, ref_streams, trace)\u001b[0m\n\u001b[0;32m    129\u001b[0m \u001b[1;33m\u001b[0m\u001b[0m\n\u001b[0;32m    130\u001b[0m         \u001b[0mcorpus_score\u001b[0m \u001b[1;33m=\u001b[0m \u001b[1;36m0\u001b[0m\u001b[1;33m\u001b[0m\u001b[1;33m\u001b[0m\u001b[0m\n\u001b[1;32m--> 131\u001b[1;33m         \u001b[1;32mfor\u001b[0m \u001b[0mlines\u001b[0m \u001b[1;32min\u001b[0m \u001b[0mzip_longest\u001b[0m\u001b[1;33m(\u001b[0m\u001b[1;33m*\u001b[0m\u001b[0mfhs\u001b[0m\u001b[1;33m)\u001b[0m\u001b[1;33m:\u001b[0m\u001b[1;33m\u001b[0m\u001b[1;33m\u001b[0m\u001b[0m\n\u001b[0m\u001b[0;32m    132\u001b[0m             \u001b[1;32mif\u001b[0m \u001b[1;32mNone\u001b[0m \u001b[1;32min\u001b[0m \u001b[0mlines\u001b[0m\u001b[1;33m:\u001b[0m\u001b[1;33m\u001b[0m\u001b[1;33m\u001b[0m\u001b[0m\n\u001b[0;32m    133\u001b[0m                 \u001b[1;32mraise\u001b[0m \u001b[0mEOFError\u001b[0m\u001b[1;33m(\u001b[0m\u001b[1;34m\"Source and reference streams have different lengths!\"\u001b[0m\u001b[1;33m)\u001b[0m\u001b[1;33m\u001b[0m\u001b[1;33m\u001b[0m\u001b[0m\n",
      "\u001b[1;31mTypeError\u001b[0m: 'MoverScore' object is not iterable"
     ]
    }
   ],
   "source": [
    "MoverScore._compute(sys,refs)"
   ]
  },
  {
   "cell_type": "code",
   "execution_count": null,
   "id": "ebe90a26",
   "metadata": {},
   "outputs": [],
   "source": []
  }
 ],
 "metadata": {
  "kernelspec": {
   "display_name": "Python 3 (ipykernel)",
   "language": "python",
   "name": "python3"
  },
  "language_info": {
   "codemirror_mode": {
    "name": "ipython",
    "version": 3
   },
   "file_extension": ".py",
   "mimetype": "text/x-python",
   "name": "python",
   "nbconvert_exporter": "python",
   "pygments_lexer": "ipython3",
   "version": "3.9.7"
  }
 },
 "nbformat": 4,
 "nbformat_minor": 5
}
