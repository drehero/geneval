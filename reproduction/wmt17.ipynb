{
  "nbformat": 4,
  "nbformat_minor": 0,
  "metadata": {
    "colab": {
      "name": "wmt17.ipynb",
      "provenance": [],
      "collapsed_sections": []
    },
    "kernelspec": {
      "name": "python3",
      "display_name": "Python 3"
    },
    "language_info": {
      "name": "python"
    },
    "accelerator": "GPU",
    "gpuClass": "standard"
  },
  "cells": [
    {
      "cell_type": "markdown",
      "source": [
        "# WMT17\n",
        "\n",
        "* To English\n",
        "* Segment level data\n",
        "* Scores\n",
        "* Pearson correlation"
      ],
      "metadata": {
        "id": "R4YM4t4qM2Hj"
      }
    },
    {
      "cell_type": "code",
      "execution_count": 1,
      "metadata": {
        "colab": {
          "base_uri": "https://localhost:8080/"
        },
        "id": "Syh9-9O2LlJU",
        "outputId": "e066de46-993c-4c0d-f34c-30b807ff4578"
      },
      "outputs": [
        {
          "output_type": "stream",
          "name": "stdout",
          "text": [
            "Looking in indexes: https://pypi.org/simple, https://us-python.pkg.dev/colab-wheels/public/simple/\n",
            "Collecting datasets\n",
            "  Downloading datasets-2.4.0-py3-none-any.whl (365 kB)\n",
            "\u001b[K     |████████████████████████████████| 365 kB 31.2 MB/s \n",
            "\u001b[?25hRequirement already satisfied: aiohttp in /usr/local/lib/python3.7/dist-packages (from datasets) (3.8.1)\n",
            "Collecting xxhash\n",
            "  Downloading xxhash-3.0.0-cp37-cp37m-manylinux_2_17_x86_64.manylinux2014_x86_64.whl (212 kB)\n",
            "\u001b[K     |████████████████████████████████| 212 kB 71.8 MB/s \n",
            "\u001b[?25hRequirement already satisfied: numpy>=1.17 in /usr/local/lib/python3.7/dist-packages (from datasets) (1.21.6)\n",
            "Requirement already satisfied: tqdm>=4.62.1 in /usr/local/lib/python3.7/dist-packages (from datasets) (4.64.0)\n",
            "Requirement already satisfied: packaging in /usr/local/lib/python3.7/dist-packages (from datasets) (21.3)\n",
            "Requirement already satisfied: pyarrow>=6.0.0 in /usr/local/lib/python3.7/dist-packages (from datasets) (6.0.1)\n",
            "Requirement already satisfied: dill<0.3.6 in /usr/local/lib/python3.7/dist-packages (from datasets) (0.3.5.1)\n",
            "Collecting responses<0.19\n",
            "  Downloading responses-0.18.0-py3-none-any.whl (38 kB)\n",
            "Requirement already satisfied: requests>=2.19.0 in /usr/local/lib/python3.7/dist-packages (from datasets) (2.23.0)\n",
            "Collecting fsspec[http]>=2021.11.1\n",
            "  Downloading fsspec-2022.7.1-py3-none-any.whl (141 kB)\n",
            "\u001b[K     |████████████████████████████████| 141 kB 69.5 MB/s \n",
            "\u001b[?25hRequirement already satisfied: importlib-metadata in /usr/local/lib/python3.7/dist-packages (from datasets) (4.12.0)\n",
            "Collecting huggingface-hub<1.0.0,>=0.1.0\n",
            "  Downloading huggingface_hub-0.8.1-py3-none-any.whl (101 kB)\n",
            "\u001b[K     |████████████████████████████████| 101 kB 15.6 MB/s \n",
            "\u001b[?25hCollecting multiprocess\n",
            "  Downloading multiprocess-0.70.13-py37-none-any.whl (115 kB)\n",
            "\u001b[K     |████████████████████████████████| 115 kB 74.2 MB/s \n",
            "\u001b[?25hRequirement already satisfied: pandas in /usr/local/lib/python3.7/dist-packages (from datasets) (1.3.5)\n",
            "Collecting pyyaml>=5.1\n",
            "  Downloading PyYAML-6.0-cp37-cp37m-manylinux_2_5_x86_64.manylinux1_x86_64.manylinux_2_12_x86_64.manylinux2010_x86_64.whl (596 kB)\n",
            "\u001b[K     |████████████████████████████████| 596 kB 60.6 MB/s \n",
            "\u001b[?25hRequirement already satisfied: filelock in /usr/local/lib/python3.7/dist-packages (from huggingface-hub<1.0.0,>=0.1.0->datasets) (3.7.1)\n",
            "Requirement already satisfied: typing-extensions>=3.7.4.3 in /usr/local/lib/python3.7/dist-packages (from huggingface-hub<1.0.0,>=0.1.0->datasets) (4.1.1)\n",
            "Requirement already satisfied: pyparsing!=3.0.5,>=2.0.2 in /usr/local/lib/python3.7/dist-packages (from packaging->datasets) (3.0.9)\n",
            "Requirement already satisfied: urllib3!=1.25.0,!=1.25.1,<1.26,>=1.21.1 in /usr/local/lib/python3.7/dist-packages (from requests>=2.19.0->datasets) (1.24.3)\n",
            "Requirement already satisfied: idna<3,>=2.5 in /usr/local/lib/python3.7/dist-packages (from requests>=2.19.0->datasets) (2.10)\n",
            "Requirement already satisfied: chardet<4,>=3.0.2 in /usr/local/lib/python3.7/dist-packages (from requests>=2.19.0->datasets) (3.0.4)\n",
            "Requirement already satisfied: certifi>=2017.4.17 in /usr/local/lib/python3.7/dist-packages (from requests>=2.19.0->datasets) (2022.6.15)\n",
            "Collecting urllib3!=1.25.0,!=1.25.1,<1.26,>=1.21.1\n",
            "  Downloading urllib3-1.25.11-py2.py3-none-any.whl (127 kB)\n",
            "\u001b[K     |████████████████████████████████| 127 kB 47.5 MB/s \n",
            "\u001b[?25hRequirement already satisfied: async-timeout<5.0,>=4.0.0a3 in /usr/local/lib/python3.7/dist-packages (from aiohttp->datasets) (4.0.2)\n",
            "Requirement already satisfied: attrs>=17.3.0 in /usr/local/lib/python3.7/dist-packages (from aiohttp->datasets) (22.1.0)\n",
            "Requirement already satisfied: aiosignal>=1.1.2 in /usr/local/lib/python3.7/dist-packages (from aiohttp->datasets) (1.2.0)\n",
            "Requirement already satisfied: multidict<7.0,>=4.5 in /usr/local/lib/python3.7/dist-packages (from aiohttp->datasets) (6.0.2)\n",
            "Requirement already satisfied: frozenlist>=1.1.1 in /usr/local/lib/python3.7/dist-packages (from aiohttp->datasets) (1.3.0)\n",
            "Requirement already satisfied: asynctest==0.13.0 in /usr/local/lib/python3.7/dist-packages (from aiohttp->datasets) (0.13.0)\n",
            "Requirement already satisfied: charset-normalizer<3.0,>=2.0 in /usr/local/lib/python3.7/dist-packages (from aiohttp->datasets) (2.1.0)\n",
            "Requirement already satisfied: yarl<2.0,>=1.0 in /usr/local/lib/python3.7/dist-packages (from aiohttp->datasets) (1.8.1)\n",
            "Requirement already satisfied: zipp>=0.5 in /usr/local/lib/python3.7/dist-packages (from importlib-metadata->datasets) (3.8.1)\n",
            "Requirement already satisfied: pytz>=2017.3 in /usr/local/lib/python3.7/dist-packages (from pandas->datasets) (2022.1)\n",
            "Requirement already satisfied: python-dateutil>=2.7.3 in /usr/local/lib/python3.7/dist-packages (from pandas->datasets) (2.8.2)\n",
            "Requirement already satisfied: six>=1.5 in /usr/local/lib/python3.7/dist-packages (from python-dateutil>=2.7.3->pandas->datasets) (1.15.0)\n",
            "Installing collected packages: urllib3, pyyaml, fsspec, xxhash, responses, multiprocess, huggingface-hub, datasets\n",
            "  Attempting uninstall: urllib3\n",
            "    Found existing installation: urllib3 1.24.3\n",
            "    Uninstalling urllib3-1.24.3:\n",
            "      Successfully uninstalled urllib3-1.24.3\n",
            "  Attempting uninstall: pyyaml\n",
            "    Found existing installation: PyYAML 3.13\n",
            "    Uninstalling PyYAML-3.13:\n",
            "      Successfully uninstalled PyYAML-3.13\n",
            "Successfully installed datasets-2.4.0 fsspec-2022.7.1 huggingface-hub-0.8.1 multiprocess-0.70.13 pyyaml-6.0 responses-0.18.0 urllib3-1.25.11 xxhash-3.0.0\n",
            "Looking in indexes: https://pypi.org/simple, https://us-python.pkg.dev/colab-wheels/public/simple/\n",
            "Collecting transformers\n",
            "  Downloading transformers-4.21.1-py3-none-any.whl (4.7 MB)\n",
            "\u001b[K     |████████████████████████████████| 4.7 MB 15.4 MB/s \n",
            "\u001b[?25hRequirement already satisfied: pyyaml>=5.1 in /usr/local/lib/python3.7/dist-packages (from transformers) (6.0)\n",
            "Requirement already satisfied: tqdm>=4.27 in /usr/local/lib/python3.7/dist-packages (from transformers) (4.64.0)\n",
            "Requirement already satisfied: regex!=2019.12.17 in /usr/local/lib/python3.7/dist-packages (from transformers) (2022.6.2)\n",
            "Requirement already satisfied: packaging>=20.0 in /usr/local/lib/python3.7/dist-packages (from transformers) (21.3)\n",
            "Collecting tokenizers!=0.11.3,<0.13,>=0.11.1\n",
            "  Downloading tokenizers-0.12.1-cp37-cp37m-manylinux_2_12_x86_64.manylinux2010_x86_64.whl (6.6 MB)\n",
            "\u001b[K     |████████████████████████████████| 6.6 MB 25.8 MB/s \n",
            "\u001b[?25hRequirement already satisfied: importlib-metadata in /usr/local/lib/python3.7/dist-packages (from transformers) (4.12.0)\n",
            "Requirement already satisfied: filelock in /usr/local/lib/python3.7/dist-packages (from transformers) (3.7.1)\n",
            "Requirement already satisfied: numpy>=1.17 in /usr/local/lib/python3.7/dist-packages (from transformers) (1.21.6)\n",
            "Requirement already satisfied: requests in /usr/local/lib/python3.7/dist-packages (from transformers) (2.23.0)\n",
            "Requirement already satisfied: huggingface-hub<1.0,>=0.1.0 in /usr/local/lib/python3.7/dist-packages (from transformers) (0.8.1)\n",
            "Requirement already satisfied: typing-extensions>=3.7.4.3 in /usr/local/lib/python3.7/dist-packages (from huggingface-hub<1.0,>=0.1.0->transformers) (4.1.1)\n",
            "Requirement already satisfied: pyparsing!=3.0.5,>=2.0.2 in /usr/local/lib/python3.7/dist-packages (from packaging>=20.0->transformers) (3.0.9)\n",
            "Requirement already satisfied: zipp>=0.5 in /usr/local/lib/python3.7/dist-packages (from importlib-metadata->transformers) (3.8.1)\n",
            "Requirement already satisfied: idna<3,>=2.5 in /usr/local/lib/python3.7/dist-packages (from requests->transformers) (2.10)\n",
            "Requirement already satisfied: chardet<4,>=3.0.2 in /usr/local/lib/python3.7/dist-packages (from requests->transformers) (3.0.4)\n",
            "Requirement already satisfied: urllib3!=1.25.0,!=1.25.1,<1.26,>=1.21.1 in /usr/local/lib/python3.7/dist-packages (from requests->transformers) (1.25.11)\n",
            "Requirement already satisfied: certifi>=2017.4.17 in /usr/local/lib/python3.7/dist-packages (from requests->transformers) (2022.6.15)\n",
            "Installing collected packages: tokenizers, transformers\n",
            "Successfully installed tokenizers-0.12.1 transformers-4.21.1\n"
          ]
        }
      ],
      "source": [
        "# install dependencies\n",
        "\n",
        "!pip install datasets\n",
        "\n",
        "# bertscore\n",
        "#!pip install bert_score\n",
        "\n",
        "# bleurt\n",
        "#!pip install git+https://github.com/google-research/bleurt.git\n",
        "\n",
        "# comet\n",
        "#!pip install unbabel-comet\n",
        "\n",
        "# frugalscore, bartscore, moverscore\n",
        "!pip install transformers"
      ]
    },
    {
      "cell_type": "code",
      "source": [
        "!git clone https://github.com/drehero/geneval"
      ],
      "metadata": {
        "colab": {
          "base_uri": "https://localhost:8080/"
        },
        "id": "3SC8ZyJVLrPi",
        "outputId": "323a175c-bfe8-4d0e-bc28-ed6814d96906"
      },
      "execution_count": 33,
      "outputs": [
        {
          "output_type": "stream",
          "name": "stdout",
          "text": [
            "Cloning into 'geneval'...\n",
            "remote: Enumerating objects: 384, done.\u001b[K\n",
            "remote: Counting objects: 100% (34/34), done.\u001b[K\n",
            "remote: Compressing objects: 100% (17/17), done.\u001b[K\n",
            "remote: Total 384 (delta 15), reused 28 (delta 12), pack-reused 350\u001b[K\n",
            "Receiving objects: 100% (384/384), 41.86 MiB | 10.98 MiB/s, done.\n",
            "Resolving deltas: 100% (159/159), done.\n",
            "Checking out files: 100% (126/126), done.\n"
          ]
        }
      ]
    },
    {
      "cell_type": "code",
      "source": [
        ""
      ],
      "metadata": {
        "id": "CC1y-Te0U6RF"
      },
      "execution_count": 2,
      "outputs": []
    },
    {
      "cell_type": "code",
      "source": [
        "from google.colab import drive\n",
        "drive.mount(\"/content/drive\")"
      ],
      "metadata": {
        "colab": {
          "base_uri": "https://localhost:8080/"
        },
        "id": "wE9nMmj-E6Ub",
        "outputId": "2fc247d7-2341-4d89-abce-701cadceb4f7"
      },
      "execution_count": 3,
      "outputs": [
        {
          "output_type": "stream",
          "name": "stdout",
          "text": [
            "Mounted at /content/drive\n"
          ]
        }
      ]
    },
    {
      "cell_type": "code",
      "source": [
        "import pathlib\n",
        "\n",
        "import datasets\n",
        "import numpy as np\n",
        "import pandas as pd\n",
        "from scipy.stats import pearsonr\n",
        "\n",
        "from geneval.geneval.data.wmt import WMT17"
      ],
      "metadata": {
        "id": "Z7GxL8G9LtQN"
      },
      "execution_count": 4,
      "outputs": []
    },
    {
      "cell_type": "code",
      "source": [
        ""
      ],
      "metadata": {
        "id": "D5J4V8WMMmPO"
      },
      "execution_count": 4,
      "outputs": []
    },
    {
      "cell_type": "code",
      "source": [
        "out_path = pathlib.Path(f\"/content/drive/MyDrive/results/wmt17/\")\n",
        "lang_pairs = [\"cs-en\", \"de-en\", \"fi-en\", \"lv-en\", \"ru-en\", \"tr-en\", \"zh-en\"]"
      ],
      "metadata": {
        "id": "5sOqRq4Thouo"
      },
      "execution_count": 5,
      "outputs": []
    },
    {
      "cell_type": "code",
      "source": [
        "class bertscore_config:\n",
        "    metric_name = \"bertscore\"\n",
        "    metric_path = \"bertscore\"\n",
        "\n",
        "    uses_reference = True\n",
        "    uses_source = False\n",
        "\n",
        "    score_name = \"f1\"\n",
        "\n",
        "    load_args = {}\n",
        "    compute_args = {\n",
        "        \"model_type\": \"bert-base-uncased\",\n",
        "        \"lang\": \"en\",\n",
        "    }"
      ],
      "metadata": {
        "id": "z5PvIXK7ASt6"
      },
      "execution_count": 6,
      "outputs": []
    },
    {
      "cell_type": "code",
      "source": [
        "class bleurt_config:\n",
        "    metric_name = \"bleurt\"\n",
        "    metric_path = \"bleurt\"\n",
        "\n",
        "    uses_reference = True\n",
        "    uses_source = False\n",
        "\n",
        "    score_name = \"scores\"\n",
        "\n",
        "    load_args = {\n",
        "        \"config_name\": \"bleurt-base-512\"\n",
        "    }\n",
        "    compute_args = {}"
      ],
      "metadata": {
        "id": "XQZzhx2aigmg"
      },
      "execution_count": 7,
      "outputs": []
    },
    {
      "cell_type": "code",
      "source": [
        "class comet_config:\n",
        "    metric_name = \"comet\"\n",
        "    metric_path = \"comet\"\n",
        "\n",
        "    uses_reference = True\n",
        "    uses_source = True\n",
        "\n",
        "    score_name = \"scores\"\n",
        "\n",
        "    load_args = {}\n",
        "    compute_args = {\"progress_bar\": True}"
      ],
      "metadata": {
        "id": "rUHebPIYijnm"
      },
      "execution_count": 8,
      "outputs": []
    },
    {
      "cell_type": "code",
      "source": [
        "class frugalscore_config:\n",
        "    metric_name = \"frugalscore\"\n",
        "    metric_path = \"frugalscore\"\n",
        "\n",
        "    uses_reference = True\n",
        "    uses_source = False\n",
        "\n",
        "    score_name = \"scores\"\n",
        "\n",
        "    load_args = {\"config_name\": \"moussaKam/frugalscore_tiny_bert-base_bert-score\"}\n",
        "    compute_args = {\n",
        "        \"max_length\": 512,\n",
        "        \"batch_size\": 128,\n",
        "        \"device\": \"gpu\"\n",
        "    }"
      ],
      "metadata": {
        "id": "cFof8TwU8SGJ"
      },
      "execution_count": 9,
      "outputs": []
    },
    {
      "cell_type": "code",
      "source": [
        "class bartscore_config:\n",
        "    metric_name = \"bartscore\"\n",
        "    metric_path = \"./geneval/geneval/metrics/bartscore/bartscore.py\"\n",
        "\n",
        "    uses_reference = False\n",
        "    uses_source = True\n",
        "\n",
        "    score_name = None\n",
        "\n",
        "    load_args = {}\n",
        "    compute_args = {\n",
        "        #model_type: \"facebook/bart-base\",\n",
        "        \"model_type\": \"facebook/bart-large-cnn\",\n",
        "        \"max_length\": 512,\n",
        "        \"batch_size\": 128,\n",
        "    }"
      ],
      "metadata": {
        "id": "Usxb0ouCijqx"
      },
      "execution_count": 13,
      "outputs": []
    },
    {
      "cell_type": "code",
      "source": [
        "class moverscore_config:\n",
        "    metric_name = \"moverscore\"\n",
        "    metric_path = \"./geneval/geneval/metrics/moverscore/moverscore.py\"\n",
        "\n",
        "    uses_reference = True\n",
        "    uses_source = False\n",
        "\n",
        "    score_name = None\n",
        "\n",
        "    load_args = {}\n",
        "    compute_args = {\n",
        "        \"model_type\": \"bert-base-uncased\",\n",
        "        \"batch_size\": 128,\n",
        "        \"n_gram\": 1,\n",
        "    }"
      ],
      "metadata": {
        "id": "_uTojYFERoyE"
      },
      "execution_count": 30,
      "outputs": []
    },
    {
      "cell_type": "code",
      "source": [
        ""
      ],
      "metadata": {
        "id": "5V8juhW9Ro2m"
      },
      "execution_count": 30,
      "outputs": []
    },
    {
      "cell_type": "code",
      "source": [
        ""
      ],
      "metadata": {
        "id": "8TptJSw6RpDI"
      },
      "execution_count": 30,
      "outputs": []
    },
    {
      "cell_type": "code",
      "source": [
        "config = moverscore_config"
      ],
      "metadata": {
        "id": "Zs0Q7V97L-ej"
      },
      "execution_count": 31,
      "outputs": []
    },
    {
      "cell_type": "code",
      "source": [
        "scorer = datasets.load_metric(config.metric_path, **config.load_args)"
      ],
      "metadata": {
        "id": "Nyk0bIEj4IVJ"
      },
      "execution_count": 34,
      "outputs": []
    },
    {
      "cell_type": "code",
      "source": [
        "for lang_pair in lang_pairs:\n",
        "    # load data\n",
        "    wmt = WMT17(lang_pair)\n",
        "\n",
        "    # compute score\n",
        "    args = config.compute_args.copy()\n",
        "    if config.uses_reference:\n",
        "        args[\"references\"] = wmt.references\n",
        "    if config.uses_source:\n",
        "        args[\"sources\"] = wmt.sources\n",
        "    \n",
        "    scores = scorer.compute(\n",
        "        predictions=wmt.translations,\n",
        "        **args\n",
        "    )\n",
        "\n",
        "    # save\n",
        "    df = pd.DataFrame({\n",
        "        \"translation\": wmt.translations,\n",
        "        \"reference\": wmt.references,\n",
        "        \"source\": wmt.sources,\n",
        "        \"human_score\": wmt.scores,\n",
        "        \"metric_score\": scores[config.score_name] if config.score_name is not None else scores\n",
        "    })\n",
        "    if \"model_type\" in args.keys():\n",
        "        fn = f\"{lang_pair}-{args['model_type'].split('/')[-1]}.csv\"\n",
        "    elif \"config_name\" in config.load_args.keys():\n",
        "        fn = f\"{lang_pair}-{config.load_args['config_name'].split('/')[-1]}.csv\"\n",
        "    else:\n",
        "        fn = f\"{lang_pair}.csv\"\n",
        "    df.to_csv(out_path / config.metric_name / fn, index=False)"
      ],
      "metadata": {
        "id": "0p955d1yMCTE"
      },
      "execution_count": 36,
      "outputs": []
    },
    {
      "cell_type": "code",
      "source": [
        "# load scores and compute pearson correlation\n",
        "results = {}\n",
        "for lang_pair in lang_pairs:\n",
        "    if \"model_type\" in config.compute_args.keys():\n",
        "        fn = f\"{lang_pair}-{config.compute_args['model_type'].split('/')[-1]}.csv\"\n",
        "    elif \"config_name\" in config.load_args.keys():\n",
        "        fn = f\"{lang_pair}-{config.load_args['config_name'].split('/')[-1]}.csv\"\n",
        "    else:\n",
        "        fn = f\"{lang_pair}.csv\"\n",
        "    df = pd.read_csv(out_path / config.metric_name / fn)\n",
        "    corr = pearsonr(df[\"metric_score\"], df[\"human_score\"])[0]\n",
        "    results[lang_pair] = corr"
      ],
      "metadata": {
        "id": "bwNBU2qcAZ61"
      },
      "execution_count": 37,
      "outputs": []
    },
    {
      "cell_type": "code",
      "source": [
        "results"
      ],
      "metadata": {
        "colab": {
          "base_uri": "https://localhost:8080/"
        },
        "id": "-B7PvKfDXFN1",
        "outputId": "d4e24014-ffb9-4c33-e407-27a16b79fdbc"
      },
      "execution_count": 38,
      "outputs": [
        {
          "output_type": "execute_result",
          "data": {
            "text/plain": [
              "{'cs-en': 0.6021966685731961,\n",
              " 'de-en': 0.627159362496482,\n",
              " 'fi-en': 0.7688580216458533,\n",
              " 'lv-en': 0.6446975625846387,\n",
              " 'ru-en': 0.6639918272189534,\n",
              " 'tr-en': 0.7273878656667742,\n",
              " 'zh-en': 0.6647567195778533}"
            ]
          },
          "metadata": {},
          "execution_count": 38
        }
      ]
    },
    {
      "cell_type": "code",
      "source": [
        ""
      ],
      "metadata": {
        "id": "WAVdkkA6VN59"
      },
      "execution_count": null,
      "outputs": []
    }
  ]
}